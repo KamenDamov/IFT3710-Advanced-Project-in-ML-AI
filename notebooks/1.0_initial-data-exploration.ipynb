{
 "cells": [
  {
   "cell_type": "code",
   "execution_count": 12,
   "id": "initial_id",
   "metadata": {
    "collapsed": true
   },
   "outputs": [],
   "source": [
    "import numpy as np\n",
    "from PIL import Image\n",
    "import os\n",
    "from tqdm import tqdm"
   ]
  },
  {
   "cell_type": "code",
   "execution_count": 13,
   "id": "993d8d60",
   "metadata": {},
   "outputs": [
    {
     "name": "stderr",
     "output_type": "stream",
     "text": [
      "loading images: 100%|██████████| 88/88 [00:00<00:00, 1866.54it/s]\n"
     ]
    }
   ],
   "source": [
    "images_path = \"../data/preprocessing_outputs/normalized_data/images\"\n",
    "images = os.listdir(images_path)\n",
    "min_size = (np.inf, np.inf)\n",
    "selected_image = \"\"\n",
    "for _, image in enumerate(tqdm(images, desc=\"loading images\")):\n",
    "    img = Image.open(f\"{images_path}/{image}\")\n",
    "    width, high = img.size[0], img.size[1]\n",
    "    if width < min_size[0] and high < min_size[1]:\n",
    "        min_size = img.size\n",
    "        selected_image = image"
   ]
  },
  {
   "cell_type": "code",
   "execution_count": 14,
   "id": "cff95c03",
   "metadata": {},
   "outputs": [
    {
     "data": {
      "text/plain": [
       "(591, 447)"
      ]
     },
     "execution_count": 14,
     "metadata": {},
     "output_type": "execute_result"
    }
   ],
   "source": [
    "min_size"
   ]
  },
  {
   "cell_type": "code",
   "execution_count": 15,
   "id": "ecfa3ec5",
   "metadata": {},
   "outputs": [
    {
     "data": {
      "text/plain": [
       "'cell_00100.png'"
      ]
     },
     "execution_count": 15,
     "metadata": {},
     "output_type": "execute_result"
    }
   ],
   "source": [
    "selected_image"
   ]
  }
 ],
 "metadata": {
  "kernelspec": {
   "display_name": "Python 3",
   "language": "python",
   "name": "python3"
  },
  "language_info": {
   "codemirror_mode": {
    "name": "ipython",
    "version": 3
   },
   "file_extension": ".py",
   "mimetype": "text/x-python",
   "name": "python",
   "nbconvert_exporter": "python",
   "pygments_lexer": "ipython3",
   "version": "3.11.6"
  }
 },
 "nbformat": 4,
 "nbformat_minor": 5
}
