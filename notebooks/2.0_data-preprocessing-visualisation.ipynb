{
 "cells": [
  {
   "cell_type": "code",
   "execution_count": 1,
   "metadata": {},
   "outputs": [],
   "source": [
    "import os\n",
    "join = os.path.join\n",
    "import argparse\n",
    "\n",
    "from skimage import io, segmentation, morphology, exposure\n",
    "import numpy as np\n",
    "import tifffile as tif\n",
    "from tqdm import tqdm"
   ]
  },
  {
   "cell_type": "markdown",
   "metadata": {},
   "source": [
    "## Data Normalization"
   ]
  },
  {
   "cell_type": "code",
   "execution_count": 2,
   "metadata": {},
   "outputs": [],
   "source": [
    "def normalize_channel(img, lower=1, upper=99):\n",
    "    non_zero_vals = img[np.nonzero(img)]\n",
    "    percentiles = np.percentile(non_zero_vals, [lower, upper])\n",
    "    if percentiles[1] - percentiles[0] > 0.001:\n",
    "        img_norm = exposure.rescale_intensity(img, in_range=(percentiles[0], percentiles[1]), out_range='uint8')\n",
    "    else:\n",
    "        img_norm = img\n",
    "    return img_norm.astype(np.uint8)\n",
    "\n",
    "def create_interior_map(inst_map):\n",
    "    \"\"\"\n",
    "    Parameters\n",
    "    ----------\n",
    "    inst_map : (H,W), np.int16\n",
    "        DESCRIPTION.\n",
    "\n",
    "    Returns\n",
    "    -------\n",
    "    interior : (H,W), np.uint8 \n",
    "        three-class map, values: 0,1,2\n",
    "        0: background\n",
    "        1: interior\n",
    "        2: boundary\n",
    "    \"\"\"\n",
    "    # create interior-edge map\n",
    "    boundary = segmentation.find_boundaries(inst_map, mode='inner')\n",
    "    boundary = morphology.binary_dilation(boundary, morphology.disk(1))\n",
    "\n",
    "    interior_temp = np.logical_and(~boundary, inst_map > 0)\n",
    "    # interior_temp[boundary] = 0\n",
    "    interior_temp = morphology.remove_small_objects(interior_temp, min_size=16)\n",
    "    interior = np.zeros_like(inst_map, dtype=np.uint8)\n",
    "    interior[interior_temp] = 1\n",
    "    interior[boundary] = 2\n",
    "    return interior"
   ]
  },
  {
   "cell_type": "code",
   "execution_count": 3,
   "metadata": {},
   "outputs": [],
   "source": [
    "source_path = '../data\\\\Training-labeled'\n",
    "target_path = '../notebooks\\\\preprocessing_outputs'"
   ]
  },
  {
   "cell_type": "code",
   "execution_count": 4,
   "metadata": {},
   "outputs": [],
   "source": [
    "# Get images names\n",
    "images = join(source_path, 'images')\n",
    "labels = join(source_path, 'labels')\n",
    "\n",
    "img_names = sorted(os.listdir(images))\n",
    "gt_names = [img_name.split('.')[0]+'_label.tiff' for img_name in img_names]"
   ]
  },
  {
   "cell_type": "code",
   "execution_count": 5,
   "metadata": {},
   "outputs": [],
   "source": [
    "# Create directories for preprocessed images and ground truth\n",
    "pre_img_path = join(target_path, 'images')\n",
    "pre_gt_path = join(target_path, 'labels')\n",
    "os.makedirs(pre_img_path, exist_ok=True)\n",
    "os.makedirs(pre_gt_path, exist_ok=True)"
   ]
  },
  {
   "cell_type": "code",
   "execution_count": 6,
   "metadata": {},
   "outputs": [
    {
     "name": "stderr",
     "output_type": "stream",
     "text": [
      "100%|██████████| 88/88 [02:09<00:00,  1.47s/it]\n"
     ]
    }
   ],
   "source": [
    "log = []\n",
    "for img_name, gt_name in zip(tqdm(img_names), gt_names):\n",
    "    try:\n",
    "        if img_name.endswith('.tif') or img_name.endswith('.tiff'):\n",
    "            img_data = tif.imread(join(images, img_name))\n",
    "        else:\n",
    "            img_data = io.imread(join(images, img_name))\n",
    "        gt_data = tif.imread(join(labels, gt_name))\n",
    "\n",
    "        # normalize image data\n",
    "        if len(img_data.shape) == 2:\n",
    "            img_data = np.repeat(np.expand_dims(img_data, axis=-1), 3, axis=-1)\n",
    "        elif len(img_data.shape) == 3 and img_data.shape[-1] > 3:\n",
    "            img_data = img_data[:,:, :3]\n",
    "        else:\n",
    "            pass\n",
    "        pre_img_data = np.zeros(img_data.shape, dtype=np.uint8)\n",
    "        for i in range(3):\n",
    "            img_channel_i = img_data[:,:,i]\n",
    "            if len(img_channel_i[np.nonzero(img_channel_i)])>0:\n",
    "                pre_img_data[:,:,i] = normalize_channel(img_channel_i, lower=1, upper=99)\n",
    "            \n",
    "        # conver instance bask to three-class mask: interior, boundary\n",
    "        interior_map = create_interior_map(gt_data.astype(np.int16))\n",
    "        \n",
    "        io.imsave(join(target_path, 'images', img_name.split('.')[0]+'.png'), pre_img_data.astype(np.uint8), check_contrast=False)\n",
    "        io.imsave(join(target_path, 'labels', gt_name.split('.')[0]+'.png'), interior_map.astype(np.uint8), check_contrast=False)\n",
    "    except: \n",
    "       log.append(img_name)      \n",
    "\n",
    "with open('logs.txt', 'a') as f: \n",
    "    f.write(\"\\n\".join(log))\n",
    "    f.close()   \n"
   ]
  }
 ],
 "metadata": {
  "kernelspec": {
   "display_name": "Python 3",
   "language": "python",
   "name": "python3"
  },
  "language_info": {
   "codemirror_mode": {
    "name": "ipython",
    "version": 3
   },
   "file_extension": ".py",
   "mimetype": "text/x-python",
   "name": "python",
   "nbconvert_exporter": "python",
   "pygments_lexer": "ipython3",
   "version": "3.11.6"
  }
 },
 "nbformat": 4,
 "nbformat_minor": 2
}
