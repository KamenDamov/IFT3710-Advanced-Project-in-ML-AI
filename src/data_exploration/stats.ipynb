{
 "cells": [
  {
   "cell_type": "code",
   "execution_count": null,
   "metadata": {},
   "outputs": [],
   "source": [
    "import matplotlib.pyplot as plt\n",
    "import tifffile as tif\n",
    "import pandas as pd\n",
    "import PIL.Image as Image\n",
    "import numpy as np\n",
    "import colorsys\n",
    "import zipfile\n",
    "import os\n",
    "from explore import *"
   ]
  },
  {
   "cell_type": "code",
   "execution_count": null,
   "metadata": {},
   "outputs": [],
   "source": [
    "dataroot = \"../../data\"\n",
    "zenodo = ZenodoNeurIPS('/zenodo')\n",
    "files_by_type = list_dataset(dataroot + \"/raw\", folder= zenodo.root + \"/\")\n",
    "\n",
    "# Display parallel histograms\n",
    "plt.figure()\n",
    "ax = plt.subplot(2, 1, 1)\n",
    "plt.bar(IMAGE_TYPES, [len(files_by_type[type]) for type in IMAGE_TYPES], label='Files')\n",
    "plt.title(\"File types in dataset\")\n",
    "plt.xlabel(\"File type\")\n",
    "plt.ylabel(\"Count\")\n",
    "plt.legend()\n",
    "plt.show()\n"
   ]
  },
  {
   "cell_type": "code",
   "execution_count": null,
   "metadata": {},
   "outputs": [],
   "source": [
    "file_types = {cat:{type:set() for type in (IMAGE_TYPES + MISC_TYPES)} for cat in [LABELED, MASK, UNLABELED, SYNTHETIC]}\n",
    "\n",
    "for type in IMAGE_TYPES:\n",
    "    for filepath in files_by_type[type]:\n",
    "        file_types[zenodo.categorize(filepath)][type].add(filepath)\n",
    "\n",
    "for cat in [LABELED, MASK, UNLABELED, SYNTHETIC]:\n",
    "    types = file_types[cat]\n",
    "    counts = {k:len(s) for k, s in types.items()}\n",
    "    print(cat, sum(counts.values()), counts)\n"
   ]
  },
  {
   "cell_type": "code",
   "execution_count": null,
   "metadata": {},
   "outputs": [],
   "source": [
    "x = np.arange(len(IMAGE_TYPES))  # the label locations\n",
    "width = 0.25\n",
    "\n",
    "# Display parallel histograms\n",
    "plt.figure()\n",
    "ax = plt.subplot(2, 1, 1)\n",
    "\n",
    "index = 0\n",
    "for cat, data in file_types.items():\n",
    "    plt.bar(x + index * width, [len(data[key]) for key in IMAGE_TYPES], width, label=cat)\n",
    "    index += 1\n",
    "    \n",
    "plt.title(\"File types in dataset\")\n",
    "plt.xlabel(\"File type\")\n",
    "plt.xticks(x + width, IMAGE_TYPES)\n",
    "plt.ylabel(\"Count\")\n",
    "plt.legend()\n",
    "plt.show()"
   ]
  },
  {
   "cell_type": "code",
   "execution_count": null,
   "metadata": {},
   "outputs": [],
   "source": [
    "preprocess_dataset(dataroot)\n",
    "\n",
    "for name, df in enumerate_frames(dataroot):\n",
    "    category = MASK if (\".labels\" in name) else SYNTHETIC\n",
    "    assert set(df[\"Mask\"]) == file_types[category][\".tiff\"]\n",
    "    save_maskframes(dataroot, df)\n",
    "    preprocess_masks(dataroot, df)\n",
    "    #save_hue_mask(dataroot + \"/raw\", dataroot + \"/processed\", \"/zenodo/Testing/Public/labels/OpenTest_006_label.tiff\")\n",
    "    pass"
   ]
  },
  {
   "cell_type": "code",
   "execution_count": null,
   "metadata": {},
   "outputs": [],
   "source": [
    "data_map, synth_map = [df for name, df in enumerate_frames(dataroot)]\n",
    "\n",
    "print(\"Valeurs aberrantes?\")\n",
    "data_map[data_map[\"Objects\"] > 2000]"
   ]
  },
  {
   "cell_type": "code",
   "execution_count": null,
   "metadata": {},
   "outputs": [],
   "source": [
    "\n",
    "num_obj = data_map[\"Objects\"]\n",
    "print(num_obj[num_obj > 2000])\n",
    "num_obj = num_obj[num_obj < 2000]\n",
    "print(len(num_obj), sum(num_obj), set(num_obj))\n",
    "\n",
    "# Display parallel histograms\n",
    "plt.figure()\n",
    "plt.subplot(2, 1, 1)\n",
    "plt.hist(np.log2([x for x in num_obj]), bins=100)\n",
    "plt.title(\"Number of segmented objects per file\")\n",
    "plt.xlabel(\"Number of objects (log2)\")\n",
    "#plt.xticks([2.0 ** x for x in range(5)])\n",
    "plt.ylabel(\"Count\")\n",
    "plt.show()"
   ]
  },
  {
   "cell_type": "code",
   "execution_count": null,
   "metadata": {},
   "outputs": [],
   "source": [
    "print(len(set(n for n in (data_map[\"Width\"] * data_map[\"Height\"]))))\n",
    "\n",
    "area = data_map[\"Width\"] * data_map[\"Height\"]\n",
    "print(\"Too big:\", area[area > 10 ** 7].count())\n",
    "#area = area[area < 10 ** 7]\n",
    "\n",
    "# Display parallel histograms\n",
    "plt.figure()\n",
    "plt.subplot(2, 1, 1)\n",
    "plt.hist(np.log2(area), bins=100)\n",
    "#plt.hist([np.log2(n) for n in numbers if n < 2000], bins=100)\n",
    "plt.title(\"Size of of mask files\")\n",
    "plt.xlabel(\"Size of file (log2)\")\n",
    "#plt.xticks([2.0 ** x for x in range(5)])\n",
    "plt.ylabel(\"Count\")\n",
    "plt.show()"
   ]
  },
  {
   "cell_type": "code",
   "execution_count": null,
   "metadata": {},
   "outputs": [],
   "source": [
    "#print(set(n[2] for n in numbers))\n",
    "\n",
    "density = 1 - (data_map[\"Background\"] / data_map[\"Width\"] / data_map[\"Height\"])\n",
    "\n",
    "plt.figure()\n",
    "plt.subplot(2, 1, 1)\n",
    "plt.hist(density, bins=100)\n",
    "#plt.hist([-np.log2(n[2]) for n in numbers], bins=100)\n",
    "plt.title(\"Density of segmented objects per file\")\n",
    "plt.xlabel(\"Density of objects\")\n",
    "#plt.xticks([2.0 ** x for x in range(5)])\n",
    "plt.ylabel(\"Count\")\n",
    "plt.show()"
   ]
  },
  {
   "cell_type": "code",
   "execution_count": null,
   "metadata": {},
   "outputs": [],
   "source": [
    "radius = (density / data_map[\"Objects\"] / np.pi) ** .5\n",
    "\n",
    "plt.figure()\n",
    "plt.subplot(2, 1, 1)\n",
    "plt.hist(radius, bins=100)\n",
    "#plt.hist([-np.log2(n[2]) for n in numbers], bins=100)\n",
    "plt.title(\"Average radius of segmented objects per file\")\n",
    "plt.xlabel(\"Radius of objects (in %)\")\n",
    "#plt.xticks([2.0 ** x for x in range(8)])\n",
    "plt.ylabel(\"Count\")\n",
    "plt.show()"
   ]
  }
 ],
 "metadata": {
  "kernelspec": {
   "display_name": "Python 3",
   "language": "python",
   "name": "python3"
  },
  "language_info": {
   "codemirror_mode": {
    "name": "ipython",
    "version": 3
   },
   "file_extension": ".py",
   "mimetype": "text/x-python",
   "name": "python",
   "nbconvert_exporter": "python",
   "pygments_lexer": "ipython3",
   "version": "3.11.9"
  }
 },
 "nbformat": 4,
 "nbformat_minor": 2
}
