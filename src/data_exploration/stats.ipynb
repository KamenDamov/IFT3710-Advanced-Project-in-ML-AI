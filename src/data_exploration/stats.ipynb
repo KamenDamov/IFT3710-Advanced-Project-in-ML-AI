{
 "cells": [
  {
   "cell_type": "code",
   "execution_count": null,
   "metadata": {},
   "outputs": [],
   "source": [
    "import matplotlib.pyplot as plt\n",
    "import tifffile as tif\n",
    "import pandas as pd\n",
    "import PIL.Image as Image\n",
    "import numpy as np\n",
    "import colorsys\n",
    "import zipfile\n",
    "import os\n",
    "from explore import *"
   ]
  },
  {
   "cell_type": "code",
   "execution_count": null,
   "metadata": {},
   "outputs": [],
   "source": [
    "files_by_type = {type:set() for type in (IMAGE_TYPES + MISC_TYPES)}\n",
    "\n",
    "dataroot = \"../../data\"\n",
    "for filepath, dirpath, name, ext in enumerate_dataset(dataroot + \"/raw\", folder= \"/zenodo/\"):\n",
    "    if not ext:\n",
    "        continue\n",
    "    files_by_type[ext].add(filepath)\n",
    "\n",
    "# Display parallel histograms\n",
    "plt.figure()\n",
    "ax = plt.subplot(2, 1, 1)\n",
    "plt.bar(IMAGE_TYPES, [len(files_by_type[type]) for type in IMAGE_TYPES], label='Files')\n",
    "plt.title(\"File types in dataset\")\n",
    "plt.xlabel(\"File type\")\n",
    "plt.ylabel(\"Count\")\n",
    "plt.legend()\n",
    "plt.show()\n"
   ]
  },
  {
   "cell_type": "code",
   "execution_count": null,
   "metadata": {},
   "outputs": [],
   "source": [
    "LABELED = 'Labeled'\n",
    "MASK = 'Mask'\n",
    "UNLABELED = 'Unlabeled'\n",
    "SYNTHETIC = 'Synthetic'\n",
    "\n",
    "file_types = {cat:{type:set() for type in (IMAGE_TYPES + MISC_TYPES)} for cat in [LABELED, MASK, UNLABELED, SYNTHETIC]}\n",
    "\n",
    "def mask_map(category):\n",
    "    if category == MASK:\n",
    "        yield (\"/Public/images\", \"/Public/labels\")\n",
    "        yield (\"/Public/WSI\", \"/Public/WSI-labels\")\n",
    "        yield (\"/Training-labeled/images\", \"/Training-labeled/labels\")\n",
    "        yield (\"/Tuning/images\", \"/Tuning/labels\")\n",
    "    if category == SYNTHETIC:\n",
    "        yield (\"/Hidden/images\", \"/Hidden/osilab_seg\")\n",
    "        yield (\"/Public/images\", \"/Public/1st_osilab_seg\")\n",
    "        yield (\"/Public/WSI\", \"/Public/osilab_seg_WSI\")\n",
    "\n",
    "def categorize(dirpath):\n",
    "    for (img, mask) in mask_map(MASK):\n",
    "        if mask in dirpath:\n",
    "            return MASK\n",
    "        elif img in dirpath:\n",
    "            return LABELED\n",
    "    for (img, mask) in mask_map(SYNTHETIC):\n",
    "        if mask in dirpath:\n",
    "            return SYNTHETIC\n",
    "    return UNLABELED\n",
    "\n",
    "for type, paths in files_by_type.items():\n",
    "    for filepath in paths:\n",
    "        file_types[categorize(filepath)][type].add(filepath)"
   ]
  },
  {
   "cell_type": "code",
   "execution_count": null,
   "metadata": {},
   "outputs": [],
   "source": [
    "for cat in [LABELED, MASK, UNLABELED, SYNTHETIC]:\n",
    "    types = file_types[cat]\n",
    "    counts = {k:len(s) for k, s in types.items()}\n",
    "    print(cat, sum(counts.values()), counts)\n",
    "\n",
    "x = np.arange(len(IMAGE_TYPES))  # the label locations\n",
    "width = 0.25\n",
    "\n",
    "# Display parallel histograms\n",
    "plt.figure()\n",
    "ax = plt.subplot(2, 1, 1)\n",
    "\n",
    "index = 0\n",
    "for cat, data in file_types.items():\n",
    "    plt.bar(x + index * width, [len(data[key]) for key in IMAGE_TYPES], width, label=cat)\n",
    "    index += 1\n",
    "    \n",
    "plt.title(\"File types in dataset\")\n",
    "plt.xlabel(\"File type\")\n",
    "plt.xticks(x + width, IMAGE_TYPES)\n",
    "plt.ylabel(\"Count\")\n",
    "plt.legend()\n",
    "plt.show()"
   ]
  },
  {
   "cell_type": "code",
   "execution_count": null,
   "metadata": {},
   "outputs": [],
   "source": [
    "mask_assoc = {}\n",
    "visited = set(file_types[MASK][\".tiff\"])\n",
    "\n",
    "def get_mask_path(img_path):\n",
    "    folder, name, ext = split_filepath(img_path)\n",
    "    if \"WSI\" in folder:\n",
    "        return folder.replace(\"/WSI\", \"/WSI-labels\") + name + \"_label.tiff\"\n",
    "    if \"/images\" in folder:\n",
    "        return folder.replace(\"/images\", \"/labels\") + name + \"_label.tiff\"\n",
    "    return None\n",
    "\n",
    "for ext in IMAGE_TYPES:\n",
    "    for path in file_types[LABELED][ext]:\n",
    "        mask_path = get_mask_path(path)\n",
    "        if mask_path and os.path.exists(dataroot + \"/raw\" + mask_path):\n",
    "            mask_assoc[path] = mask_path\n",
    "            visited.remove(mask_path)\n",
    "        else:\n",
    "            print(\"Missing mask: \", dataroot + \"/raw\", mask_path, path)\n",
    "\n",
    "print(len(mask_assoc))\n",
    "print(visited)\n",
    "assert not visited"
   ]
  },
  {
   "cell_type": "code",
   "execution_count": null,
   "metadata": {},
   "outputs": [],
   "source": [
    "synth_assoc = {}\n",
    "visited = set(file_types[SYNTHETIC][\".tiff\"])\n",
    "\n",
    "def get_synth_path(img_path):\n",
    "    folder, name, ext = split_filepath(img_path)\n",
    "    if \"/Hidden\" in folder:\n",
    "        return folder.replace(\"/images\", \"/osilab_seg\") + name + \"_label.tiff\"\n",
    "    elif \"/Public/images\" in folder:\n",
    "        return folder.replace(\"/images\", \"/1st_osilab_seg\") + name + \"_label.tiff\"\n",
    "    elif \"/Public/WSI\" in folder:\n",
    "        return folder.replace(\"/WSI\", \"/osilab_seg_WSI\") + name + \"_label.tiff\"\n",
    "    return None\n",
    "\n",
    "for cat in [UNLABELED, LABELED]:\n",
    "    for ext in IMAGE_TYPES:\n",
    "        for path in file_types[cat][ext]:\n",
    "            synth_path = get_synth_path(path)\n",
    "            if synth_path and os.path.exists(dataroot + \"/raw\" + synth_path):\n",
    "                synth_assoc[path] = synth_path\n",
    "                visited.remove(synth_path)\n",
    "\n",
    "print(len(synth_assoc))\n",
    "print(visited)\n",
    "assert not visited"
   ]
  },
  {
   "cell_type": "code",
   "execution_count": null,
   "metadata": {},
   "outputs": [],
   "source": [
    "data_map = dataset_frame(dataroot + \"/raw\", mask_assoc)\n",
    "data_map.to_csv(dataroot + \"/zenodo.labels.csv\")\n",
    "\n",
    "synth_map = dataset_frame(dataroot + \"/raw\", synth_assoc)\n",
    "synth_map.to_csv(dataroot + \"/zenodo.synth.csv\")"
   ]
  },
  {
   "cell_type": "code",
   "execution_count": null,
   "metadata": {},
   "outputs": [],
   "source": [
    "for df in enumerate_datasets(dataroot):\n",
    "    save_maskframes(dataroot, df)\n",
    "    preprocess_masks(dataroot, df)\n",
    "    #save_hue_mask(dataroot + \"/raw\", dataroot + \"/processed\", \"/zenodo/Testing/Public/labels/OpenTest_006_label.tiff\")\n",
    "    pass"
   ]
  },
  {
   "cell_type": "code",
   "execution_count": null,
   "metadata": {},
   "outputs": [],
   "source": []
  },
  {
   "cell_type": "code",
   "execution_count": null,
   "metadata": {},
   "outputs": [],
   "source": [
    "print(\"Valeurs aberrantes?\")\n",
    "data_map[data_map[\"Objects\"] > 2000]"
   ]
  },
  {
   "cell_type": "code",
   "execution_count": null,
   "metadata": {},
   "outputs": [],
   "source": [
    "\n",
    "num_obj = data_map[\"Objects\"]\n",
    "print(num_obj[num_obj > 2000])\n",
    "num_obj = num_obj[num_obj < 2000]\n",
    "print(len(num_obj), sum(num_obj), set(num_obj))\n",
    "\n",
    "# Display parallel histograms\n",
    "plt.figure()\n",
    "plt.subplot(2, 1, 1)\n",
    "plt.hist(np.log2([x for x in num_obj]), bins=100)\n",
    "plt.title(\"Number of segmented objects per file\")\n",
    "plt.xlabel(\"Number of objects (log2)\")\n",
    "#plt.xticks([2.0 ** x for x in range(5)])\n",
    "plt.ylabel(\"Count\")\n",
    "plt.show()"
   ]
  },
  {
   "cell_type": "code",
   "execution_count": null,
   "metadata": {},
   "outputs": [],
   "source": [
    "print(len(set(n for n in (data_map[\"Width\"] * data_map[\"Height\"]))))\n",
    "\n",
    "area = data_map[\"Width\"] * data_map[\"Height\"]\n",
    "print(\"Too big:\", area[area > 10 ** 7].count())\n",
    "#area = area[area < 10 ** 7]\n",
    "\n",
    "# Display parallel histograms\n",
    "plt.figure()\n",
    "plt.subplot(2, 1, 1)\n",
    "plt.hist(np.log2(area), bins=100)\n",
    "#plt.hist([np.log2(n) for n in numbers if n < 2000], bins=100)\n",
    "plt.title(\"Size of of mask files\")\n",
    "plt.xlabel(\"Size of file (log2)\")\n",
    "#plt.xticks([2.0 ** x for x in range(5)])\n",
    "plt.ylabel(\"Count\")\n",
    "plt.show()"
   ]
  },
  {
   "cell_type": "code",
   "execution_count": null,
   "metadata": {},
   "outputs": [],
   "source": [
    "#print(set(n[2] for n in numbers))\n",
    "\n",
    "density = 1 - (data_map[\"Background\"] / data_map[\"Width\"] / data_map[\"Height\"])\n",
    "\n",
    "plt.figure()\n",
    "plt.subplot(2, 1, 1)\n",
    "plt.hist(density, bins=100)\n",
    "#plt.hist([-np.log2(n[2]) for n in numbers], bins=100)\n",
    "plt.title(\"Density of segmented objects per file\")\n",
    "plt.xlabel(\"Density of objects\")\n",
    "#plt.xticks([2.0 ** x for x in range(5)])\n",
    "plt.ylabel(\"Count\")\n",
    "plt.show()"
   ]
  },
  {
   "cell_type": "code",
   "execution_count": null,
   "metadata": {},
   "outputs": [],
   "source": [
    "radius = (density / data_map[\"Objects\"] / np.pi) ** .5\n",
    "\n",
    "plt.figure()\n",
    "plt.subplot(2, 1, 1)\n",
    "plt.hist(radius, bins=100)\n",
    "#plt.hist([-np.log2(n[2]) for n in numbers], bins=100)\n",
    "plt.title(\"Average radius of segmented objects per file\")\n",
    "plt.xlabel(\"Radius of objects (in %)\")\n",
    "#plt.xticks([2.0 ** x for x in range(8)])\n",
    "plt.ylabel(\"Count\")\n",
    "plt.show()"
   ]
  }
 ],
 "metadata": {
  "kernelspec": {
   "display_name": "Python 3",
   "language": "python",
   "name": "python3"
  },
  "language_info": {
   "codemirror_mode": {
    "name": "ipython",
    "version": 3
   },
   "file_extension": ".py",
   "mimetype": "text/x-python",
   "name": "python",
   "nbconvert_exporter": "python",
   "pygments_lexer": "ipython3",
   "version": "3.11.9"
  }
 },
 "nbformat": 4,
 "nbformat_minor": 2
}
