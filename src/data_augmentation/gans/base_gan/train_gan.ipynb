{
 "cells": [
  {
   "cell_type": "code",
   "execution_count": null,
   "metadata": {},
   "outputs": [],
   "source": [
    "import os\n",
    "import torch\n",
    "import torch.nn as nn\n",
    "from gan import *"
   ]
  },
  {
   "cell_type": "markdown",
   "metadata": {},
   "source": [
    "Train GAN for novel sample generation"
   ]
  },
  {
   "cell_type": "code",
   "execution_count": null,
   "metadata": {},
   "outputs": [],
   "source": [
    "path = \"C:\\\\Users\\\\kamen\\\\Dev\\\\School\\\\H25\\\\IFT3710\\\\IFT3710-Advanced-Project-in-ML-AI\\\\data\\\\preprocessing_outputs\\\\unified_set\\\\labels\"\n",
    "z_dim = 256\n",
    "channels = 1\n",
    "model = GANModel(z_dim, channels)\n",
    "data = create_dataloader(path, 1, 256)\n",
    "trainer = Trainer(model, data, device=\"cuda\")\n",
    "#trainer.train(epochs=100)\n",
    "evaluator = Evaluator(model, device=\"cuda\")"
   ]
  },
  {
   "cell_type": "markdown",
   "metadata": {},
   "source": [
    "Call generators and create samples. The logic here is to create an ensemble of generators (proposed by Goodfellow). Choose later weights for better learned parameters."
   ]
  },
  {
   "cell_type": "code",
   "execution_count": null,
   "metadata": {},
   "outputs": [],
   "source": [
    "# Generators chosen arbitrarely. Could have some sort of heuristic to chose generators.\n",
    "generators = [90, 86, 82, 67]\n",
    "for generator in generators: \n",
    "    model.load_state_dict(torch.load(f\"gan_256x256_epoch_{str(generator)}.pth\"))\n",
    "    syn_samples = evaluator.generate_samples(1000)\n",
    "    for i in range(syn_samples.shape[0]):\n",
    "        evaluator.save_sample_image(syn_samples[i], generator, i)"
   ]
  }
 ],
 "metadata": {
  "kernelspec": {
   "display_name": "Python 3",
   "language": "python",
   "name": "python3"
  },
  "language_info": {
   "codemirror_mode": {
    "name": "ipython",
    "version": 3
   },
   "file_extension": ".py",
   "mimetype": "text/x-python",
   "name": "python",
   "nbconvert_exporter": "python",
   "pygments_lexer": "ipython3",
   "version": "3.11.9"
  }
 },
 "nbformat": 4,
 "nbformat_minor": 2
}
