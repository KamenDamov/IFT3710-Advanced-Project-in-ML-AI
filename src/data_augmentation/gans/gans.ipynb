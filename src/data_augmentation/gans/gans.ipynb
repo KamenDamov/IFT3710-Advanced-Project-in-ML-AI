{
 "cells": [
  {
   "cell_type": "code",
   "execution_count": null,
   "metadata": {},
   "outputs": [],
   "source": [
    "import torch\n",
    "from torchvision import transforms\n",
    "from PIL import Image\n",
    "import os\n",
    "import numpy as np\n",
    "import cv2\n",
    "from cycle_gan.models.pix2pix_model import Pix2PixModel\n",
    "from cycle_gan.options.base_options import BaseOptions\n",
    "from cycle_gan.data.produce_dataset import Pix2PixDataset\n",
    "from torch.utils.data import Dataset, DataLoader\n",
    "import argparse\n",
    "from cycle_gan.util.visualizer import Visualizer\n",
    "import time\n",
    "from gans import Training, Options\n",
    "from infer import Infer"
   ]
  },
  {
   "cell_type": "markdown",
   "metadata": {},
   "source": [
    "# Trial run to see if pipeline works"
   ]
  },
  {
   "cell_type": "code",
   "execution_count": null,
   "metadata": {},
   "outputs": [],
   "source": [
    "image_dir = \"data/preprocessing_outputs/transformed_images_labels/images\"\n",
    "label_dir = \"data/preprocessing_outputs/transformed_images_labels/labels\"\n",
    "\n",
    "# Create dataset and dataloader\n",
    "dataset = Pix2PixDataset(image_dir, label_dir)\n",
    "dataloader = DataLoader(dataset, batch_size=4, shuffle=True, num_workers=4)\n",
    "\n",
    "print(f\"Loaded dataset with {len(dataset)} image-mask pairs.\")"
   ]
  },
  {
   "cell_type": "code",
   "execution_count": null,
   "metadata": {},
   "outputs": [],
   "source": [
    "input_dir = \"data\\preprocessing_outputs\\\\transformed_images_labels\\images\"   # Raw cell images\n",
    "mask_dir = \"data\\preprocessing_outputs\\\\transformed_images_labels\\labels\"     # Corresponding segmentation masks\n",
    "input_tuning_dir = \"data\\preprocessing_outputs\\\\tuning\\\\transformed_images_labels\\images\"\n",
    "output_dir = \"data\\Training-unlabeled\\Training-unlabeled\\labels\" # Output paired images\n",
    "unlabeled_images_path = \"data\\preprocessing_outputs\\\\transformed_images_labels\\images\"  # Unlabeled images\n",
    "pseudo_mask_output_path = \"./dataset_pix2pix/test/generated_masks/\"  # Where to save masks\n",
    "pseudo_mask_output_tuning_path = \"./data/dataset_pix2pix/tuning/generated_masks_2/\"\n",
    "\n",
    "options = Options()\n",
    "training = Training()\n",
    "infer = Infer()\n",
    "\n",
    "opt = options.get_opt()\n",
    "pix2pix_model = training.load_pix2pix_model(opt)\n",
    "dataset = Pix2PixDataset(input_dir, mask_dir)\n",
    "# Train pix2pix \n",
    "training.train_model(pix2pix_model, dataset, opt)\n",
    "\n",
    "pix2pix_model = Pix2PixModel(opt)\n",
    "checkpoint_path = \"latest_generator.pth\"\n",
    "\n",
    "# Load state dictionary\n",
    "#pix2pix_model.load_networks(\"latest\")\n",
    "pix2pix_model.netG.load_state_dict(torch.load(checkpoint_path))\n",
    "\n",
    "pix2pix_model.netG.eval()\n",
    "print(\"Model loaded successfully!\")\n",
    "\n",
    "# Generate pseudo-masks\n",
    "infer.generate_pseudo_masks(pix2pix_model, input_tuning_dir, pseudo_mask_output_tuning_path)\n",
    "\n",
    "print(\"Synthetic pseudo-masks added to training dataset!\")\n"
   ]
  }
 ],
 "metadata": {
  "kernelspec": {
   "display_name": "Python 3",
   "language": "python",
   "name": "python3"
  },
  "language_info": {
   "codemirror_mode": {
    "name": "ipython",
    "version": 3
   },
   "file_extension": ".py",
   "mimetype": "text/x-python",
   "name": "python",
   "nbconvert_exporter": "python",
   "pygments_lexer": "ipython3",
   "version": "3.11.9"
  }
 },
 "nbformat": 4,
 "nbformat_minor": 2
}
