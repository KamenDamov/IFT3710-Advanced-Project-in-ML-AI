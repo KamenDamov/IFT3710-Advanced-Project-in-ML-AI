{
 "cells": [
  {
   "cell_type": "code",
   "execution_count": null,
   "metadata": {},
   "outputs": [
    {
     "ename": "FileNotFoundError",
     "evalue": "[WinError 3] The system cannot find the path specified: 'data/preprocessing_outputs/transformed_images_labels/images'",
     "output_type": "error",
     "traceback": [
      "\u001b[1;31m---------------------------------------------------------------------------\u001b[0m",
      "\u001b[1;31mFileNotFoundError\u001b[0m                         Traceback (most recent call last)",
      "Cell \u001b[1;32mIn[1], line 9\u001b[0m\n\u001b[0;32m      7\u001b[0m \u001b[38;5;28;01mfrom\u001b[39;00m \u001b[38;5;21;01mcycle_gan\u001b[39;00m\u001b[38;5;21;01m.\u001b[39;00m\u001b[38;5;21;01mmodels\u001b[39;00m\u001b[38;5;21;01m.\u001b[39;00m\u001b[38;5;21;01mpix2pix_model\u001b[39;00m \u001b[38;5;28;01mimport\u001b[39;00m Pix2PixModel\n\u001b[0;32m      8\u001b[0m \u001b[38;5;28;01mfrom\u001b[39;00m \u001b[38;5;21;01mcycle_gan\u001b[39;00m\u001b[38;5;21;01m.\u001b[39;00m\u001b[38;5;21;01moptions\u001b[39;00m\u001b[38;5;21;01m.\u001b[39;00m\u001b[38;5;21;01mbase_options\u001b[39;00m \u001b[38;5;28;01mimport\u001b[39;00m BaseOptions\n\u001b[1;32m----> 9\u001b[0m \u001b[38;5;28;01mfrom\u001b[39;00m \u001b[38;5;21;01mcycle_gan\u001b[39;00m\u001b[38;5;21;01m.\u001b[39;00m\u001b[38;5;21;01mdata\u001b[39;00m\u001b[38;5;21;01m.\u001b[39;00m\u001b[38;5;21;01mproduce_dataset\u001b[39;00m \u001b[38;5;28;01mimport\u001b[39;00m Pix2PixDataset\n\u001b[0;32m     10\u001b[0m \u001b[38;5;28;01mimport\u001b[39;00m \u001b[38;5;21;01margparse\u001b[39;00m\n\u001b[0;32m     11\u001b[0m \u001b[38;5;28;01mfrom\u001b[39;00m \u001b[38;5;21;01mcycle_gan\u001b[39;00m\u001b[38;5;21;01m.\u001b[39;00m\u001b[38;5;21;01mutil\u001b[39;00m\u001b[38;5;21;01m.\u001b[39;00m\u001b[38;5;21;01mvisualizer\u001b[39;00m \u001b[38;5;28;01mimport\u001b[39;00m Visualizer\n",
      "File \u001b[1;32mc:\\Users\\kamen\\Dev\\School\\H25\\IFT3710\\IFT3710-Advanced-Project-in-ML-AI\\src\\data_augmentation\\gans\\cycle_gan\\data\\produce_dataset.py:53\u001b[0m\n\u001b[0;32m     50\u001b[0m label_dir \u001b[38;5;241m=\u001b[39m \u001b[38;5;124m\"\u001b[39m\u001b[38;5;124mdata/preprocessing_outputs/transformed_images_labels/labels\u001b[39m\u001b[38;5;124m\"\u001b[39m\n\u001b[0;32m     52\u001b[0m \u001b[38;5;66;03m# Create dataset and dataloader\u001b[39;00m\n\u001b[1;32m---> 53\u001b[0m dataset \u001b[38;5;241m=\u001b[39m \u001b[43mPix2PixDataset\u001b[49m\u001b[43m(\u001b[49m\u001b[43mimage_dir\u001b[49m\u001b[43m,\u001b[49m\u001b[43m \u001b[49m\u001b[43mlabel_dir\u001b[49m\u001b[43m)\u001b[49m\n\u001b[0;32m     54\u001b[0m dataloader \u001b[38;5;241m=\u001b[39m DataLoader(dataset, batch_size\u001b[38;5;241m=\u001b[39m\u001b[38;5;241m4\u001b[39m, shuffle\u001b[38;5;241m=\u001b[39m\u001b[38;5;28;01mTrue\u001b[39;00m, num_workers\u001b[38;5;241m=\u001b[39m\u001b[38;5;241m4\u001b[39m)\n\u001b[0;32m     56\u001b[0m \u001b[38;5;28mprint\u001b[39m(\u001b[38;5;124mf\u001b[39m\u001b[38;5;124m\"\u001b[39m\u001b[38;5;124mLoaded dataset with \u001b[39m\u001b[38;5;132;01m{\u001b[39;00m\u001b[38;5;28mlen\u001b[39m(dataset)\u001b[38;5;132;01m}\u001b[39;00m\u001b[38;5;124m image-mask pairs.\u001b[39m\u001b[38;5;124m\"\u001b[39m)\n",
      "File \u001b[1;32mc:\\Users\\kamen\\Dev\\School\\H25\\IFT3710\\IFT3710-Advanced-Project-in-ML-AI\\src\\data_augmentation\\gans\\cycle_gan\\data\\produce_dataset.py:17\u001b[0m, in \u001b[0;36mPix2PixDataset.__init__\u001b[1;34m(self, image_dir, label_dir, image_size)\u001b[0m\n\u001b[0;32m     15\u001b[0m \u001b[38;5;28mself\u001b[39m\u001b[38;5;241m.\u001b[39mimage_dir \u001b[38;5;241m=\u001b[39m image_dir\n\u001b[0;32m     16\u001b[0m \u001b[38;5;28mself\u001b[39m\u001b[38;5;241m.\u001b[39mlabel_dir \u001b[38;5;241m=\u001b[39m label_dir\n\u001b[1;32m---> 17\u001b[0m \u001b[38;5;28mself\u001b[39m\u001b[38;5;241m.\u001b[39mimage_filenames \u001b[38;5;241m=\u001b[39m \u001b[38;5;28msorted\u001b[39m(\u001b[43mos\u001b[49m\u001b[38;5;241;43m.\u001b[39;49m\u001b[43mlistdir\u001b[49m\u001b[43m(\u001b[49m\u001b[43mimage_dir\u001b[49m\u001b[43m)\u001b[49m)  \u001b[38;5;66;03m# Ensure matching order\u001b[39;00m\n\u001b[0;32m     18\u001b[0m \u001b[38;5;28mself\u001b[39m\u001b[38;5;241m.\u001b[39mmask_filenames \u001b[38;5;241m=\u001b[39m \u001b[38;5;28msorted\u001b[39m(os\u001b[38;5;241m.\u001b[39mlistdir(label_dir))\n\u001b[0;32m     20\u001b[0m \u001b[38;5;28mself\u001b[39m\u001b[38;5;241m.\u001b[39mtransform_image \u001b[38;5;241m=\u001b[39m transforms\u001b[38;5;241m.\u001b[39mCompose([\n\u001b[0;32m     21\u001b[0m     transforms\u001b[38;5;241m.\u001b[39mResize(image_size),\n\u001b[0;32m     22\u001b[0m     transforms\u001b[38;5;241m.\u001b[39mToTensor(),  \u001b[38;5;66;03m# Convert to tensor\u001b[39;00m\n\u001b[0;32m     23\u001b[0m     transforms\u001b[38;5;241m.\u001b[39mNormalize(mean\u001b[38;5;241m=\u001b[39m[\u001b[38;5;241m0.5\u001b[39m], std\u001b[38;5;241m=\u001b[39m[\u001b[38;5;241m0.5\u001b[39m])  \u001b[38;5;66;03m# Normalize to [-1, 1]\u001b[39;00m\n\u001b[0;32m     24\u001b[0m ])\n",
      "\u001b[1;31mFileNotFoundError\u001b[0m: [WinError 3] The system cannot find the path specified: 'data/preprocessing_outputs/transformed_images_labels/images'"
     ]
    }
   ],
   "source": [
    "import torch\n",
    "from torchvision import transforms\n",
    "from PIL import Image\n",
    "import os\n",
    "import numpy as np\n",
    "import cv2\n",
    "from cycle_gan.models.pix2pix_model import Pix2PixModel\n",
    "from cycle_gan.options.base_options import BaseOptions\n",
    "from cycle_gan.data.produce_dataset import Pix2PixDataset\n",
    "from torch.utils.data import Dataset, DataLoader\n",
    "import argparse\n",
    "from cycle_gan.util.visualizer import Visualizer\n",
    "import time\n",
    "from gans import Training, Options\n",
    "from infer import Infer"
   ]
  },
  {
   "cell_type": "markdown",
   "metadata": {},
   "source": [
    "# Trial run to see if pipeline works"
   ]
  },
  {
   "cell_type": "code",
   "execution_count": null,
   "metadata": {},
   "outputs": [],
   "source": [
    "image_dir = \"data/preprocessing_outputs/transformed_images_labels/images\"\n",
    "label_dir = \"data/preprocessing_outputs/transformed_images_labels/labels\"\n",
    "\n",
    "# Create dataset and dataloader\n",
    "dataset = Pix2PixDataset(image_dir, label_dir)\n",
    "dataloader = DataLoader(dataset, batch_size=4, shuffle=True, num_workers=4)\n",
    "\n",
    "print(f\"Loaded dataset with {len(dataset)} image-mask pairs.\")"
   ]
  },
  {
   "cell_type": "code",
   "execution_count": null,
   "metadata": {},
   "outputs": [],
   "source": [
    "input_dir = \"data\\preprocessing_outputs\\\\transformed_images_labels\\images\"   # Raw cell images\n",
    "mask_dir = \"data\\preprocessing_outputs\\\\transformed_images_labels\\labels\"     # Corresponding segmentation masks\n",
    "input_tuning_dir = \"data\\preprocessing_outputs\\\\tuning\\\\transformed_images_labels\\images\"\n",
    "output_dir = \"data\\Training-unlabeled\\Training-unlabeled\\labels\" # Output paired images\n",
    "unlabeled_images_path = \"data\\preprocessing_outputs\\\\transformed_images_labels\\images\"  # Unlabeled images\n",
    "pseudo_mask_output_path = \"./dataset_pix2pix/test/generated_masks/\"  # Where to save masks\n",
    "pseudo_mask_output_tuning_path = \"./data/dataset_pix2pix/tuning/generated_masks_2/\"\n",
    "\n",
    "# Load trained Pix2Pix model\n",
    "options = Options()\n",
    "training = Training()\n",
    "infer = Infer()\n",
    "\n",
    "opt = options.get_opt()\n",
    "pix2pix_model = training.load_pix2pix_model(opt)\n",
    "dataset = Pix2PixDataset(input_dir, mask_dir)\n",
    "# Train pix2pix \n",
    "training.train_model(pix2pix_model, dataset, opt)\n",
    "\n",
    "pix2pix_model = Pix2PixModel(opt)\n",
    "checkpoint_path = \"latest_generator.pth\"\n",
    "\n",
    "# Load state dictionary\n",
    "#pix2pix_model.load_networks(\"latest\")\n",
    "pix2pix_model.netG.load_state_dict(torch.load(checkpoint_path))\n",
    "\n",
    "pix2pix_model.netG.eval()\n",
    "print(\"Model loaded successfully!\")\n",
    "\n",
    "# Generate pseudo-masks\n",
    "infer.generate_pseudo_masks(pix2pix_model, input_tuning_dir, pseudo_mask_output_tuning_path)\n",
    "\n",
    "print(\"Synthetic pseudo-masks added to training dataset!\")\n"
   ]
  }
 ],
 "metadata": {
  "kernelspec": {
   "display_name": "Python 3",
   "language": "python",
   "name": "python3"
  },
  "language_info": {
   "codemirror_mode": {
    "name": "ipython",
    "version": 3
   },
   "file_extension": ".py",
   "mimetype": "text/x-python",
   "name": "python",
   "nbconvert_exporter": "python",
   "pygments_lexer": "ipython3",
   "version": "3.11.9"
  }
 },
 "nbformat": 4,
 "nbformat_minor": 2
}
