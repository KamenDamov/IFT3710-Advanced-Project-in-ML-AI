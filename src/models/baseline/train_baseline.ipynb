{
 "cells": [
  {
   "cell_type": "code",
   "execution_count": null,
   "id": "ab369bec",
   "metadata": {},
   "outputs": [],
   "source": [
    "from metrics import compute_metric\n",
    "from unetr2d import UNETR2D"
   ]
  },
  {
   "cell_type": "code",
   "execution_count": null,
   "id": "e689b79e",
   "metadata": {},
   "outputs": [],
   "source": [
    "input_dir_baseline_images = \"data/preprocessing_outputs/transformed_images_labels/images\"\n",
    "input_dir_baseline_labels = \"data/preprocessing_outputs/transformed_images_labels/labels\""
   ]
  },
  {
   "cell_type": "code",
   "execution_count": null,
   "id": "aec93cb5",
   "metadata": {},
   "outputs": [],
   "source": []
  },
  {
   "cell_type": "code",
   "execution_count": null,
   "id": "5a050f2e",
   "metadata": {},
   "outputs": [],
   "source": [
    "input_dir_attention_images = \"data/preprocessing_outputs/unified_augmented_data/attention_gan/images\"\n",
    "input_dir_attention_labels = \"data/preprocessing_outputs/unified_augmented_data/attention_gan/labels\""
   ]
  },
  {
   "cell_type": "code",
   "execution_count": null,
   "id": "00377c97",
   "metadata": {},
   "outputs": [],
   "source": []
  },
  {
   "cell_type": "code",
   "execution_count": null,
   "id": "747f930f",
   "metadata": {},
   "outputs": [],
   "source": [
    "input_dir_cycle_images = \"data/preprocessing_outputs/unified_augmented_data/cycle_gan/images\"\n",
    "input_dir_cycle_labels = \"data/preprocessing_outputs/unified_augmented_data/cycle_gan/labels\""
   ]
  },
  {
   "cell_type": "code",
   "execution_count": null,
   "id": "015cd0d2",
   "metadata": {},
   "outputs": [],
   "source": []
  },
  {
   "cell_type": "code",
   "execution_count": null,
   "id": "badbf084",
   "metadata": {},
   "outputs": [],
   "source": [
    "input_dir_con_images = \"data/preprocessing_outputs/unified_augmented_data/conditionnal_gan/images\"\n",
    "input_dir_con_labels = \"data/preprocessing_outputs/unified_augmented_data/conditionnal_gan/labels\""
   ]
  },
  {
   "cell_type": "code",
   "execution_count": null,
   "id": "64c76ee3",
   "metadata": {},
   "outputs": [],
   "source": []
  },
  {
   "cell_type": "code",
   "execution_count": null,
   "id": "d0ec86c9",
   "metadata": {},
   "outputs": [],
   "source": []
  }
 ],
 "metadata": {
  "kernelspec": {
   "display_name": "Python 3",
   "language": "python",
   "name": "python3"
  },
  "language_info": {
   "codemirror_mode": {
    "name": "ipython",
    "version": 3
   },
   "file_extension": ".py",
   "mimetype": "text/x-python",
   "name": "python",
   "nbconvert_exporter": "python",
   "pygments_lexer": "ipython3",
   "version": "3.11.9"
  }
 },
 "nbformat": 4,
 "nbformat_minor": 5
}
